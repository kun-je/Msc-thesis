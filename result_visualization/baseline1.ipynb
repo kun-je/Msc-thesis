{
 "cells": [
  {
   "cell_type": "code",
   "execution_count": 23,
   "metadata": {},
   "outputs": [],
   "source": [
    "import sys\n",
    "import pandas as pd\n",
    "import sklearn\n",
    "from sklearn.feature_selection import r_regression\n",
    "import matplotlib.pyplot as plt "
   ]
  },
  {
   "cell_type": "code",
   "execution_count": 24,
   "metadata": {},
   "outputs": [],
   "source": [
    "\n",
    "#import matplotlib.pyplot as plt\n",
    "path = '/home/shared/kunchaya/data/must-c-v1/en-de/result/'\n",
    "dataset = 'tst-COMMON'"
   ]
  },
  {
   "cell_type": "code",
   "execution_count": 25,
   "metadata": {},
   "outputs": [],
   "source": [
    "#bleu, chrf, ter score\n",
    "bleu_metric = pd.read_csv(path + dataset+ '/bleu.txt', names = [\"score\"])\n",
    "chrf_metric = pd.read_csv(path + dataset+ '/chrf.txt', sep = \"=\" , names = [\"setup\",\"score\"])\n",
    "ter_metric = pd.read_csv(path + dataset+ '/ter.txt',sep = \"=\" , names = [\"setup\",\"score\"])\n",
    "\n",
    "#extract coment score\n",
    "comet_metric = pd.read_csv(path + dataset+ '/comet.txt', sep = ' ', header = None, names=[\"filename\", \"line\", \"score\"])\n",
    "comet_metric.drop(comet_metric.tail(1).index,inplace=True) #drop last 1 row\n",
    "\n",
    "#geting decoder confidence score\n",
    "decoder_confi = pd.read_csv(path + dataset+'/decoder_confi.txt', header = None)"
   ]
  },
  {
   "cell_type": "code",
   "execution_count": 26,
   "metadata": {},
   "outputs": [],
   "source": [
    "\n",
    "#calculating pearson colloreation of bleu, chrf, ter and comet\n",
    "#bleu, chrf, ter\n",
    "bleu_p = r_regression(decoder_confi, bleu_metric.values.ravel())\n",
    "chrf_p = r_regression(decoder_confi, chrf_metric.iloc[:,-1:].values.ravel())\n",
    "ter_p = r_regression(decoder_confi, ter_metric.iloc[:,-1:].values.ravel())\n",
    "\n",
    "#comet\n",
    "comet_p = r_regression(decoder_confi, comet_metric.iloc[:,-1:].values.ravel()) "
   ]
  },
  {
   "cell_type": "code",
   "execution_count": 27,
   "metadata": {},
   "outputs": [],
   "source": [
    "# make it absolute value and into percent"
   ]
  },
  {
   "attachments": {},
   "cell_type": "markdown",
   "metadata": {},
   "source": [
    "Note that we care about the magnitude (absolute value) of the correlation and not whether it is positive or negative. For example, TER is expected to correlate negatively with human ranking because higher TER means more errors while higher metric score mean higher translation quality. (zouhar et al. 2022)"
   ]
  },
  {
   "cell_type": "code",
   "execution_count": 28,
   "metadata": {},
   "outputs": [],
   "source": [
    "pearson = [bleu_p*100, chrf_p*100, ter_p*100, comet_p*100] #make it into percent\n",
    "index = ['BLEU', 'Chrf', 'Ter',\n",
    "         'COMET' ]\n",
    "df = pd.DataFrame({'Pearson Correlation (%)':pearson}, index = index)\n",
    "df['Pearson Correlation (%)'] = df['Pearson Correlation (%)'].astype(float).abs() #changes data type to float and absolute value"
   ]
  },
  {
   "cell_type": "code",
   "execution_count": 29,
   "metadata": {},
   "outputs": [
    {
     "name": "stdout",
     "output_type": "stream",
     "text": [
      "       Pearson Correlation (%)\n",
      "BLEU                 48.085786\n",
      "Chrf                 55.646506\n",
      "Ter                  45.560206\n",
      "COMET                62.968344\n"
     ]
    }
   ],
   "source": [
    "print(df)"
   ]
  },
  {
   "attachments": {},
   "cell_type": "markdown",
   "metadata": {},
   "source": [
    "Automatic metrics have n(%) correlation with decoder confidence *** It should be another way around !!!!"
   ]
  },
  {
   "cell_type": "code",
   "execution_count": 30,
   "metadata": {},
   "outputs": [
    {
     "data": {
      "image/png": "[encoded data removed]",
      "text/plain": [
       "<Figure size 640x480 with 1 Axes>"
      ]
     },
     "metadata": {},
     "output_type": "display_data"
    }
   ],
   "source": [
    "ax = df.plot.bar(y='Pearson Correlation (%)', rot=0)"
   ]
  }
 ],
 "metadata": {
  "kernelspec": {
   "display_name": "msc_proj",
   "language": "python",
   "name": "python3"
  },
  "language_info": {
   "codemirror_mode": {
    "name": "ipython",
    "version": 3
   },
   "file_extension": ".py",
   "mimetype": "text/x-python",
   "name": "python",
   "nbconvert_exporter": "python",
   "pygments_lexer": "ipython3",
   "version": "3.9.16"
  },
  "orig_nbformat": 4
 },
 "nbformat": 4,
 "nbformat_minor": 2
}
